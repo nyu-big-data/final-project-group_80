{
 "cells": [
  {
   "cell_type": "code",
   "execution_count": 2,
   "metadata": {},
   "outputs": [],
   "source": [
    "import os\n",
    "from IPython.display import display\n",
    "import matplotlib.pyplot as plt\n",
    "import matplotlib.pyplot as plt\n",
    "import pandas as pd  \n",
    "import sklearn.model_selection"
   ]
  },
  {
   "cell_type": "code",
   "execution_count": 4,
   "metadata": {},
   "outputs": [],
   "source": [
    "# read in ratings data\n",
    "ratings_small = pd.read_csv(('ml-latest-small/ratings.csv'))\n",
    "ratings_large = pd.read_csv(('ml-latest/ratings.csv'))"
   ]
  },
  {
   "cell_type": "code",
   "execution_count": 5,
   "metadata": {},
   "outputs": [],
   "source": [
    "# train-val-test split\n",
    "train_small = ratings_small.sample(frac=0.9, random_state=1)\n",
    "test_small  = ratings_small.drop(train_small.index)\n",
    "val_small   = train_small.sample(frac=2/9, random_state=1)\n",
    "train_small = train_small.drop(val_small.index)\n",
    "\n",
    "train_large = ratings_large.sample(frac=0.9, random_state=1)\n",
    "test_large  = ratings_large.drop(train_large.index)\n",
    "val_large   = train_large.sample(frac=2/9, random_state=1)\n",
    "train_large = train_large.drop(val_large.index)"
   ]
  },
  {
   "cell_type": "code",
   "execution_count": 6,
   "metadata": {},
   "outputs": [
    {
     "data": {
      "text/plain": [
       "True"
      ]
     },
     "execution_count": 6,
     "metadata": {},
     "output_type": "execute_result"
    }
   ],
   "source": [
    "# sanity check\n",
    "len(train_small.index) + len(test_small.index) + len(val_small.index) == len(ratings_small)\n",
    "len(train_large.index) + len(test_large.index) + len(val_large.index) == len(ratings_large)"
   ]
  },
  {
   "cell_type": "code",
   "execution_count": 10,
   "metadata": {},
   "outputs": [],
   "source": [
    "# save to home \n",
    "train_small.to_csv('ratings_data/train_small.csv')  \n",
    "val_small.to_csv('ratings_data/val_small.csv')  \n",
    "test_small.to_csv('ratings_data/test_small.csv')  \n",
    "\n",
    "train_large.to_csv('ratings_data/train_large.csv')  \n",
    "val_large.to_csv('ratings_data/val_large.csv')  \n",
    "test_large.to_csv('ratings_data/test_large.csv')  "
   ]
  },
  {
   "cell_type": "code",
   "execution_count": null,
   "metadata": {},
   "outputs": [],
   "source": []
  }
 ],
 "metadata": {
  "kernelspec": {
   "display_name": "Python 3",
   "language": "python",
   "name": "python3"
  },
  "language_info": {
   "codemirror_mode": {
    "name": "ipython",
    "version": 3
   },
   "file_extension": ".py",
   "mimetype": "text/x-python",
   "name": "python",
   "nbconvert_exporter": "python",
   "pygments_lexer": "ipython3",
   "version": "3.8.5"
  }
 },
 "nbformat": 4,
 "nbformat_minor": 4
}
